{
 "cells": [
  {
   "cell_type": "code",
   "execution_count": null,
   "id": "e6f5f53c-4b18-44bd-92e2-dfc0f9c6217b",
   "metadata": {},
   "outputs": [],
   "source": [
    "lst = map(lambda x: x % 2 != 0,range(1, 1000001))"
   ]
  },
  {
   "cell_type": "code",
   "execution_count": null,
   "id": "149adda6-8618-4e06-9029-98c9725299bd",
   "metadata": {},
   "outputs": [],
   "source": []
  }
 ],
 "metadata": {
  "kernelspec": {
   "display_name": "Python 3 (ipykernel)",
   "language": "python",
   "name": "python3"
  },
  "language_info": {
   "codemirror_mode": {
    "name": "ipython",
    "version": 3
   },
   "file_extension": ".py",
   "mimetype": "text/x-python",
   "name": "python",
   "nbconvert_exporter": "python",
   "pygments_lexer": "ipython3",
   "version": "3.11.9"
  }
 },
 "nbformat": 4,
 "nbformat_minor": 5
}
